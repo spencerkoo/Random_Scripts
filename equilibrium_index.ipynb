{
 "cells": [
  {
   "cell_type": "code",
   "execution_count": null,
   "metadata": {
    "collapsed": true
   },
   "outputs": [],
   "source": [
    "#function that gets the sum of all the values in the indices before it\n",
    "#takes in array A and index i\n",
    "def sum_prior(A, i):\n",
    "    total = 0\n",
    "    for x in xrange(0, i):\n",
    "        total = total + A[x]\n",
    "    return total\n",
    "\n",
    "#function that gets the sum of all the values in the indices after it\n",
    "#takes in array A and index i\n",
    "def sum_post(A, i):\n",
    "    total = 0\n",
    "    for x in xrange(i+1, len(A)):\n",
    "        total = total + A[x]\n",
    "    return total\n",
    "\n",
    "#function that takes in an array and finds the indices where the sum of the ints in the array on either side\n",
    "#of the index are equal\n",
    "def equil_index(A):\n",
    "    #first check if list is empty\n",
    "    if not A:\n",
    "        return -1\n",
    "    #end cases where the sum is 0\n",
    "    if sum(A)-A[0] == 0:\n",
    "        return 0\n",
    "    if sum(A)-A[len(A)-1] == 0:\n",
    "        return len(A)-1\n",
    "    \n",
    "    #cases inside of the end cases\n",
    "    for i in xrange(1, len(A)-1):\n",
    "        if sum_prior(A, i) == sum_post(A, i):\n",
    "            return i\n",
    "    #if not equilibrium exists\n",
    "    return -1"
   ]
  }
 ],
 "metadata": {
  "kernelspec": {
   "display_name": "Python 2",
   "language": "python",
   "name": "python2"
  },
  "language_info": {
   "codemirror_mode": {
    "name": "ipython",
    "version": 2
   },
   "file_extension": ".py",
   "mimetype": "text/x-python",
   "name": "python",
   "nbconvert_exporter": "python",
   "pygments_lexer": "ipython2",
   "version": "2.7.12"
  }
 },
 "nbformat": 4,
 "nbformat_minor": 2
}
