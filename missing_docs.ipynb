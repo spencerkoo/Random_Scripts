{
 "cells": [
  {
   "cell_type": "code",
   "execution_count": 14,
   "metadata": {
    "collapsed": false
   },
   "outputs": [
    {
     "name": "stdout",
     "output_type": "stream",
     "text": [
      "bank_statement\n",
      "2 3\n",
      "\n",
      "\n",
      "medical_history\n",
      "1 2\n",
      "\n",
      "\n",
      "tax_return\n",
      "4\n",
      "\n",
      "\n"
     ]
    }
   ],
   "source": [
    "import pandas as pd\n",
    "import numpy as np\n",
    "\n",
    "#take in the input text and put into a list\n",
    "files = []\n",
    "while True:\n",
    "    try:\n",
    "        files.append(text.split(','))\n",
    "    except EOFError:\n",
    "        break\n",
    "        \n",
    "#function that takes in the app_ids_provided and returns the ones not provided\n",
    "def opposite_ids(app_ids, app_ids_provided):\n",
    "    not_provided = []\n",
    "    for i in app_ids:\n",
    "        if i not in app_ids_provided:\n",
    "            not_provided.append(i)\n",
    "    return not_provided\n",
    "\n",
    "#create a dataframe from the list of lists\n",
    "headers = files.pop(0)\n",
    "df = pd.DataFrame(files, columns=headers)\n",
    "\n",
    "#list of the unique application IDs\n",
    "app_ids = df.applicationId.unique()\n",
    "\n",
    "#create a new dataframe by manipulating the old one by seeing which apps have which documents\n",
    "answer_df = df.groupby('docType').agg(lambda x: sorted(set(x)))\n",
    "doc_types = answer_df.index.tolist()\n",
    "\n",
    "#turn the new dataframe's applicationId column into a list of lists\n",
    "app_ids_provided = answer_df['applicationId'].tolist()\n",
    "\n",
    "#print out the document types and the IDs with those missing documents in the format requested\n",
    "for i in range(0, len(doc_types)):\n",
    "    if opposite_ids(app_ids, app_ids_provided[i]):\n",
    "        print doc_types[i]\n",
    "        print ' '.join(opposite_ids(app_ids, app_ids_provided[i]))\n",
    "        print '\\n'"
   ]
  },
  {
   "cell_type": "code",
   "execution_count": null,
   "metadata": {
    "collapsed": true
   },
   "outputs": [],
   "source": []
  }
 ],
 "metadata": {
  "kernelspec": {
   "display_name": "Python 2",
   "language": "python",
   "name": "python2"
  },
  "language_info": {
   "codemirror_mode": {
    "name": "ipython",
    "version": 2
   },
   "file_extension": ".py",
   "mimetype": "text/x-python",
   "name": "python",
   "nbconvert_exporter": "python",
   "pygments_lexer": "ipython2",
   "version": "2.7.12"
  }
 },
 "nbformat": 4,
 "nbformat_minor": 2
}
