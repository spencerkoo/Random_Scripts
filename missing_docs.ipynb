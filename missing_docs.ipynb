{
 "cells": [
  {
   "cell_type": "code",
   "execution_count": 1,
   "metadata": {
    "collapsed": false
   },
   "outputs": [
    {
     "name": "stdout",
     "output_type": "stream",
     "text": [
      "bank_statement\n",
      "2 3\n",
      "medical_history\n",
      "1 2\n",
      "tax_return\n",
      "4\n"
     ]
    },
    {
     "data": {
      "text/plain": [
       "docType\n",
       "bank_statement     None\n",
       "medical_history    None\n",
       "tax_return         None\n",
       "Name: applicationId, dtype: object"
      ]
     },
     "execution_count": 1,
     "metadata": {},
     "output_type": "execute_result"
    }
   ],
   "source": [
    "from __future__ import print_function\n",
    "import pandas as pd\n",
    "import numpy as np\n",
    "        \n",
    "#function that takes in the app_ids_provided and returns the ones not provided\n",
    "def opposite_ids(app_ids, app_ids_provided):\n",
    "    not_provided = []\n",
    "    not_provided.append(str((list(set(app_ids) - set(app_ids_provided)))).strip('[]').replace(',', ''))\n",
    "    return not_provided\n",
    "\n",
    "#read in csv\n",
    "loans_df = pd.read_csv('loans.csv')\n",
    "\n",
    "#list of the unique app IDs\n",
    "app_ids = loans_df.applicationId.unique()\n",
    "\n",
    "#create a new dataframe by manipulating the old one by seeing which apps have which documents\n",
    "answer_df = loans_df.groupby('docType').agg(lambda x: sorted(set(x)))\n",
    "\n",
    "#turn the new dataframe's applicationId column into a list of lists\n",
    "app_ids_provided = answer_df['applicationId']\n",
    "\n",
    "# #print out the document types and the IDs with those missing documents in the format requested\n",
    "result = list(zip(answer_df.index, app_ids_provided))\n",
    "app_ids_provided.apply(lambda x: print(str(result.pop(0)[0]) + '\\n' + ' '.join(opposite_ids(app_ids, x))))"
   ]
  },
  {
   "cell_type": "code",
   "execution_count": null,
   "metadata": {
    "collapsed": true
   },
   "outputs": [],
   "source": []
  }
 ],
 "metadata": {
  "kernelspec": {
   "display_name": "Python 2",
   "language": "python",
   "name": "python2"
  },
  "language_info": {
   "codemirror_mode": {
    "name": "ipython",
    "version": 2
   },
   "file_extension": ".py",
   "mimetype": "text/x-python",
   "name": "python",
   "nbconvert_exporter": "python",
   "pygments_lexer": "ipython2",
   "version": "2.7.12"
  }
 },
 "nbformat": 4,
 "nbformat_minor": 2
}
