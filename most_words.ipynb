{
 "cells": [
  {
   "cell_type": "code",
   "execution_count": null,
   "metadata": {
    "collapsed": true
   },
   "outputs": [],
   "source": [
    "def most_words(S):\n",
    "    #replacing all possible delims with periods\n",
    "    S.replace('?', '.')\n",
    "    S.replace('!', '.')\n",
    "    S.replace('.', '. ')\n",
    "    #split up the string into list of sentences\n",
    "    sen = S.split('.')\n",
    "    \n",
    "    #get rid of blank sentences\n",
    "    print sen\n",
    "    while '' in sen:\n",
    "        sen.remove('')\n",
    "    print sen\n",
    "    \n",
    "    words = []\n",
    "    #go through every index in sen and split up into words (add to a list of lists)\n",
    "    for i in range(0, len(sen)):\n",
    "        words.append(sen[i].split(' '))\n",
    "    \n",
    "    #find the max word count\n",
    "    max = 0\n",
    "    for i in range(0, len(words)):\n",
    "        while '' in words[i]:\n",
    "            words[i].remove('')\n",
    "        if len(words[i]) > max:\n",
    "            max = len(words[i])\n",
    "    \n",
    "    return max"
   ]
  }
 ],
 "metadata": {
  "kernelspec": {
   "display_name": "Python 2",
   "language": "python",
   "name": "python2"
  },
  "language_info": {
   "codemirror_mode": {
    "name": "ipython",
    "version": 2
   },
   "file_extension": ".py",
   "mimetype": "text/x-python",
   "name": "python",
   "nbconvert_exporter": "python",
   "pygments_lexer": "ipython2",
   "version": "2.7.12"
  }
 },
 "nbformat": 4,
 "nbformat_minor": 2
}
