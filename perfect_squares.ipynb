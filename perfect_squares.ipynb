{
 "cells": [
  {
   "cell_type": "code",
   "execution_count": null,
   "metadata": {
    "collapsed": true
   },
   "outputs": [],
   "source": [
    "import math\n",
    "\n",
    "#function that takes in two numbers, outputs the total number of perfect squares in that inclusive range\n",
    "#a perfect square is a number that has a whole number solution if you square root it\n",
    "#e.g. 4 = 2**2, 16 = 4**2, etc\n",
    "def p_squares(A, B):\n",
    "    nums = list(range(A, B+1))\n",
    "    total = 0\n",
    "    \n",
    "    for i in range(0, len(nums)):\n",
    "        if math.sqrt(nums[i]) == int(math.sqrt(nums[i])):\n",
    "            total +=1\n",
    "    \n",
    "    return total"
   ]
  }
 ],
 "metadata": {
  "kernelspec": {
   "display_name": "Python 2",
   "language": "python",
   "name": "python2"
  },
  "language_info": {
   "codemirror_mode": {
    "name": "ipython",
    "version": 2
   },
   "file_extension": ".py",
   "mimetype": "text/x-python",
   "name": "python",
   "nbconvert_exporter": "python",
   "pygments_lexer": "ipython2",
   "version": "2.7.12"
  }
 },
 "nbformat": 4,
 "nbformat_minor": 2
}
